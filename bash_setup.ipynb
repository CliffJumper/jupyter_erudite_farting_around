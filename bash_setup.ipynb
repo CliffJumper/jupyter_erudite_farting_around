{
 "cells": [
  {
   "cell_type": "markdown",
   "metadata": {},
   "source": [
    "# Using Bash in Jupyter Notebooks\n",
    "\n",
    "## First some notes on just getting jupyter setup\n",
    "\n",
    "You'll need to install jpyter and notebook via pip:\n",
    "\n",
    ">`pip install jupyter notebook`\n",
    "\n",
    "You can then launch via:\n",
    "\n",
    ">`jupyter notebook`"
   ]
  },
  {
   "cell_type": "markdown",
   "metadata": {},
   "source": [
    "## Now for installing the bash kernel\n",
    "\n",
    "To allow running bash scripts/commands from within a notebook, we'll need the bash kernel available\n",
    "\n",
    ">`pip3 install bash_kernel`<br>\n",
    ">`python -m bash_kernel.install`"
   ]
  },
  {
   "cell_type": "markdown",
   "metadata": {},
   "source": [
    "## If you haven't already performed the preceeding steps, please do-so before running the rest of this notebook.  It needs the bash kernel."
   ]
  },
  {
   "cell_type": "markdown",
   "metadata": {},
   "source": [
    "## Now let's test with some bash commands within the notebook\n",
    "\n",
    "A basic `ls`:"
   ]
  },
  {
   "cell_type": "code",
   "execution_count": null,
   "metadata": {},
   "outputs": [],
   "source": [
    "ls"
   ]
  },
  {
   "cell_type": "markdown",
   "metadata": {},
   "source": [
    "Now let's check what we're running on"
   ]
  },
  {
   "cell_type": "code",
   "execution_count": null,
   "metadata": {},
   "outputs": [],
   "source": [
    "lscpu"
   ]
  },
  {
   "cell_type": "markdown",
   "metadata": {},
   "source": [
    "## So, what could we do with this?\n",
    "\n",
    "This could be a great way to have a runbook for some form of deployment or incident response, allowing documentation and the actual code to live together\n",
    "\n",
    "It could also be good for... a presentation like this\n",
    "\n",
    "Scientists are using the python kernel in Jupyter Notebooks to share the CODE used in their research WITH the paper it self (all via a Jupyter notebook!)"
   ]
  },
  {
   "cell_type": "markdown",
   "metadata": {},
   "source": [
    "Additionally, with the bash kernel, you could share environment data, making it much easier for others to reproduce your work"
   ]
  },
  {
   "cell_type": "code",
   "execution_count": null,
   "metadata": {},
   "outputs": [],
   "source": [
    "pip3 list"
   ]
  }
 ],
 "metadata": {
  "kernelspec": {
   "display_name": "Bash",
   "language": "bash",
   "name": "bash"
  },
  "language_info": {
   "codemirror_mode": "shell",
   "file_extension": ".sh",
   "mimetype": "text/x-sh",
   "name": "bash"
  }
 },
 "nbformat": 4,
 "nbformat_minor": 4
}
